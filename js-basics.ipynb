{
 "cells": [
  {
   "cell_type": "markdown",
   "metadata": {},
   "source": [
    "# Variables"
   ]
  },
  {
   "cell_type": "markdown",
   "metadata": {},
   "source": [
    "var - js\n",
    "let - variables es6\n",
    "const - constant value es6"
   ]
  },
  {
   "cell_type": "markdown",
   "metadata": {},
   "source": [
    "# Arrow Functions"
   ]
  },
  {
   "cell_type": "code",
   "execution_count": null,
   "metadata": {},
   "outputs": [],
   "source": [
    "#js\n",
    "function myFunc() {\n",
    "    ...\n",
    "}\n",
    "\n",
    "#es6\n",
    "const myFunc = () => {\n",
    "    ...\n",
    "}\n",
    "\n",
    "#1 arg\n",
    "const myFunc = arg => {\n",
    "    ...\n",
    "}\n",
    "\n",
    "#0 arg\n",
    "const myFunc = () => {\n",
    "    ...\n",
    "}\n"
   ]
  },
  {
   "cell_type": "code",
   "execution_count": null,
   "metadata": {},
   "outputs": [],
   "source": [
    "#Function with only return\n",
    "\n",
    "const mul => (number) => {\n",
    "    return number*2;\n",
    "}\n",
    "\n",
    "#turns into 1 line\n",
    "const mul => number => number*2;"
   ]
  },
  {
   "cell_type": "markdown",
   "metadata": {},
   "source": [
    "# Exports + Imports"
   ]
  },
  {
   "cell_type": "code",
   "execution_count": null,
   "metadata": {},
   "outputs": [],
   "source": [
    "Classes\n",
    "person.js\n",
    "\n",
    "    const person = {\n",
    "        name: 'Max'\n",
    "    }\n",
    "\n",
    "    export default person\n",
    "    \n",
    "Methods\n",
    "utility.js\n",
    "\n",
    "    export const clean => () => {...}\n",
    "    export const baseData = 10;\n",
    "    \n",
    "Use it elsewhere\n",
    "app.js\n",
    "    import person from './person.js'\n",
    "    import prs from './person.js' //because it is the default export\n",
    "    \n",
    "    import {baseData} from './utility.js'\n",
    "    import {clean} from './utility.js'"
   ]
  },
  {
   "cell_type": "markdown",
   "metadata": {},
   "source": [
    "# Classes"
   ]
  },
  {
   "cell_type": "code",
   "execution_count": null,
   "metadata": {},
   "outputs": [],
   "source": [
    "#classes(construcor functions) can have property and method\n",
    "\n",
    "class Person {\n",
    "    name = 'Max'\n",
    "    call = () => {...}\n",
    "}\n",
    "\n",
    "#call a class\n",
    "const myPerson = newPerson()\n",
    "myPerson.call()\n",
    "console.log(myPerson.name)\n",
    "\n",
    "#inheritance(prototypes)\n",
    "class Person extends Master\n",
    "\n",
    "class Person {\n",
    "    #Create constructor function that is executed when the class in instantiated\n",
    "    constructor() {\n",
    "       this.name = 'Max';\n",
    "    }\n",
    "    \n",
    "    printMyName() {\n",
    "        console.log(this.name);\n",
    "    }\n",
    "    \n",
    "}\n",
    "\n",
    "#inheritance\n",
    "class Human {\n",
    "    constructor() {\n",
    "        this.gender = 'male';\n",
    "    }\n",
    "    \n",
    "    printGender() {\n",
    "        console.log(this.gender);\n",
    "    }\n",
    "}\n",
    "\n",
    "class Person extends Human {\n",
    "    constructor() {\n",
    "        super();\n",
    "        this.name = 'Max'\n",
    "    }\n",
    "    \n",
    "    printName() {\n",
    "        console.log(this.name);\n",
    "    }\n",
    "}\n",
    "\n",
    "const person = new Person();\n"
   ]
  },
  {
   "cell_type": "markdown",
   "metadata": {},
   "source": [
    "## Properties = variables"
   ]
  },
  {
   "cell_type": "code",
   "execution_count": null,
   "metadata": {},
   "outputs": [],
   "source": [
    "#es6 \n",
    "constructor () {\n",
    "    this.myProperty = 'value'\n",
    "}\n",
    "\n",
    "#es7 no longer need to call out the constructor function\n",
    "myProperty = 'value'"
   ]
  },
  {
   "cell_type": "markdown",
   "metadata": {},
   "source": [
    "## Methods = Functions "
   ]
  },
  {
   "cell_type": "code",
   "execution_count": null,
   "metadata": {},
   "outputs": [],
   "source": [
    "#es6\n",
    "myMethod(){..}\n",
    "\n",
    "#es7\n",
    "myMethod = () => {...}"
   ]
  },
  {
   "cell_type": "markdown",
   "metadata": {},
   "source": [
    "# Spread + Rest Operators"
   ]
  },
  {
   "cell_type": "code",
   "execution_count": null,
   "metadata": {},
   "outputs": [],
   "source": [
    "#SPREAD: used to split up array elements or object properties\n",
    "const newArray = [...oldArray,1,2]\n",
    "const newObject = {...oldObject, newProp:5}\n",
    "\n",
    "#REST: use to merge a list of function arguements into an array\n",
    "function sortArgs(...args){\n",
    "    return args.sort()\n",
    "}"
   ]
  },
  {
   "cell_type": "code",
   "execution_count": null,
   "metadata": {},
   "outputs": [],
   "source": [
    "Reference(pointer) = objects, arrays\n",
    "Primitives(copies) = numbers, string booleans"
   ]
  },
  {
   "cell_type": "markdown",
   "metadata": {},
   "source": [
    "# Array functions"
   ]
  },
  {
   "cell_type": "code",
   "execution_count": null,
   "metadata": {},
   "outputs": [],
   "source": [
    "#MAP: executed on every element in the array, returns a new array\n",
    "\n",
    "const nums = [1,2,3]\n",
    "\n",
    "const doubleNums = numbers.map((num) => {\n",
    "    return num*2;\n",
    "})"
   ]
  }
 ],
 "metadata": {
  "kernelspec": {
   "display_name": "Python 3",
   "language": "python",
   "name": "python3"
  },
  "language_info": {
   "codemirror_mode": {
    "name": "ipython",
    "version": 3
   },
   "file_extension": ".py",
   "mimetype": "text/x-python",
   "name": "python",
   "nbconvert_exporter": "python",
   "pygments_lexer": "ipython3",
   "version": "3.7.6"
  }
 },
 "nbformat": 4,
 "nbformat_minor": 4
}
